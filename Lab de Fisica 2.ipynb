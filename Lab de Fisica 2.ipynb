{
 "cells": [
  {
   "cell_type": "markdown",
   "id": "2601190a",
   "metadata": {},
   "source": [
    "<h5>Ondas sonoras - Definir a velocidade do som</h5>\n",
    "Tubo de Kundt<p>\n",
    "\n",
    "$$F = \\frac{n v}{ 2 l}$$\n",
    "\n",
    "1° etapa - frequência variável<p>\n",
    "2° etapa - comprimento variável<p>\n",
    "Em ambas, a velocidade é o coeficiente angular da reta de melhor ajuste"
   ]
  },
  {
   "cell_type": "code",
   "execution_count": 1,
   "id": "80fda621",
   "metadata": {},
   "outputs": [],
   "source": [
    "import pandas as pd\n",
    "import numpy as np\n",
    "import matplotlib.pyplot as plt\n",
    "import seaborn as sns\n",
    "import statsmodels.formula.api as smf\n",
    "import statsmodels.api as sm\n",
    "%matplotlib inline\n",
    "\n",
    "sns.set_style('whitegrid',{\"axes.grid\":False})\n",
    "sns.set_context('notebook')"
   ]
  },
  {
   "cell_type": "markdown",
   "id": "79d7f029",
   "metadata": {},
   "source": [
    "## Modelo com Frequência Variável"
   ]
  },
  {
   "cell_type": "code",
   "execution_count": 2,
   "id": "9d1fd653",
   "metadata": {},
   "outputs": [
    {
     "name": "stdout",
     "output_type": "stream",
     "text": [
      "   frequencia          n\n",
      "0      1563.4   4.166667\n",
      "1      3062.4   8.333333\n",
      "2      4514.9  12.500000\n",
      "3      6410.0  16.666667\n",
      "4      7505.0  20.833333\n"
     ]
    }
   ],
   "source": [
    "#Primeiro: Frequencia variavel\n",
    "\n",
    "l = 0.12 #em metros\n",
    "f = [1563.4,3062.4,4514.9,6410,7505] #em Hertz\n",
    "n = [int(i) for i in range(1,6)]\n",
    "n2 = [i/(2*l) for i in n]\n",
    "\n",
    "df_ondas = pd.DataFrame({'frequencia': f, 'n':n2})\n",
    "print(df_ondas)"
   ]
  },
  {
   "cell_type": "code",
   "execution_count": 3,
   "id": "9d690532",
   "metadata": {
    "scrolled": true
   },
   "outputs": [
    {
     "name": "stdout",
     "output_type": "stream",
     "text": [
      "Intercept     41.9000\n",
      "n            365.5392\n",
      "dtype: float64\n"
     ]
    },
    {
     "name": "stderr",
     "output_type": "stream",
     "text": [
      "C:\\Users\\rosan\\anaconda3\\lib\\site-packages\\statsmodels\\stats\\stattools.py:74: ValueWarning: omni_normtest is not valid with less than 8 observations; 5 samples were given.\n",
      "  warn(\"omni_normtest is not valid with less than 8 observations; %i \"\n"
     ]
    },
    {
     "data": {
      "text/html": [
       "<table class=\"simpletable\">\n",
       "<caption>OLS Regression Results</caption>\n",
       "<tr>\n",
       "  <th>Dep. Variable:</th>       <td>frequencia</td>    <th>  R-squared:         </th> <td>   0.995</td>\n",
       "</tr>\n",
       "<tr>\n",
       "  <th>Model:</th>                   <td>OLS</td>       <th>  Adj. R-squared:    </th> <td>   0.994</td>\n",
       "</tr>\n",
       "<tr>\n",
       "  <th>Method:</th>             <td>Least Squares</td>  <th>  F-statistic:       </th> <td>   637.5</td>\n",
       "</tr>\n",
       "<tr>\n",
       "  <th>Date:</th>             <td>Thu, 25 Nov 2021</td> <th>  Prob (F-statistic):</th> <td>0.000136</td>\n",
       "</tr>\n",
       "<tr>\n",
       "  <th>Time:</th>                 <td>13:51:20</td>     <th>  Log-Likelihood:    </th> <td> -32.073</td>\n",
       "</tr>\n",
       "<tr>\n",
       "  <th>No. Observations:</th>      <td>     5</td>      <th>  AIC:               </th> <td>   68.15</td>\n",
       "</tr>\n",
       "<tr>\n",
       "  <th>Df Residuals:</th>          <td>     3</td>      <th>  BIC:               </th> <td>   67.36</td>\n",
       "</tr>\n",
       "<tr>\n",
       "  <th>Df Model:</th>              <td>     1</td>      <th>                     </th>     <td> </td>   \n",
       "</tr>\n",
       "<tr>\n",
       "  <th>Covariance Type:</th>      <td>nonrobust</td>    <th>                     </th>     <td> </td>   \n",
       "</tr>\n",
       "</table>\n",
       "<table class=\"simpletable\">\n",
       "<tr>\n",
       "      <td></td>         <th>coef</th>     <th>std err</th>      <th>t</th>      <th>P>|t|</th>  <th>[0.025</th>    <th>0.975]</th>  \n",
       "</tr>\n",
       "<tr>\n",
       "  <th>Intercept</th> <td>   41.9000</td> <td>  200.075</td> <td>    0.209</td> <td> 0.848</td> <td> -594.829</td> <td>  678.629</td>\n",
       "</tr>\n",
       "<tr>\n",
       "  <th>n</th>         <td>  365.5392</td> <td>   14.478</td> <td>   25.248</td> <td> 0.000</td> <td>  319.464</td> <td>  411.615</td>\n",
       "</tr>\n",
       "</table>\n",
       "<table class=\"simpletable\">\n",
       "<tr>\n",
       "  <th>Omnibus:</th>       <td>   nan</td> <th>  Durbin-Watson:     </th> <td>   2.997</td>\n",
       "</tr>\n",
       "<tr>\n",
       "  <th>Prob(Omnibus):</th> <td>   nan</td> <th>  Jarque-Bera (JB):  </th> <td>   0.896</td>\n",
       "</tr>\n",
       "<tr>\n",
       "  <th>Skew:</th>          <td> 1.025</td> <th>  Prob(JB):          </th> <td>   0.639</td>\n",
       "</tr>\n",
       "<tr>\n",
       "  <th>Kurtosis:</th>      <td> 2.688</td> <th>  Cond. No.          </th> <td>    32.5</td>\n",
       "</tr>\n",
       "</table><br/><br/>Notes:<br/>[1] Standard Errors assume that the covariance matrix of the errors is correctly specified."
      ],
      "text/plain": [
       "<class 'statsmodels.iolib.summary.Summary'>\n",
       "\"\"\"\n",
       "                            OLS Regression Results                            \n",
       "==============================================================================\n",
       "Dep. Variable:             frequencia   R-squared:                       0.995\n",
       "Model:                            OLS   Adj. R-squared:                  0.994\n",
       "Method:                 Least Squares   F-statistic:                     637.5\n",
       "Date:                Thu, 25 Nov 2021   Prob (F-statistic):           0.000136\n",
       "Time:                        13:51:20   Log-Likelihood:                -32.073\n",
       "No. Observations:                   5   AIC:                             68.15\n",
       "Df Residuals:                       3   BIC:                             67.36\n",
       "Df Model:                           1                                         \n",
       "Covariance Type:            nonrobust                                         \n",
       "==============================================================================\n",
       "                 coef    std err          t      P>|t|      [0.025      0.975]\n",
       "------------------------------------------------------------------------------\n",
       "Intercept     41.9000    200.075      0.209      0.848    -594.829     678.629\n",
       "n            365.5392     14.478     25.248      0.000     319.464     411.615\n",
       "==============================================================================\n",
       "Omnibus:                          nan   Durbin-Watson:                   2.997\n",
       "Prob(Omnibus):                    nan   Jarque-Bera (JB):                0.896\n",
       "Skew:                           1.025   Prob(JB):                        0.639\n",
       "Kurtosis:                       2.688   Cond. No.                         32.5\n",
       "==============================================================================\n",
       "\n",
       "Notes:\n",
       "[1] Standard Errors assume that the covariance matrix of the errors is correctly specified.\n",
       "\"\"\""
      ]
     },
     "execution_count": 3,
     "metadata": {},
     "output_type": "execute_result"
    }
   ],
   "source": [
    "regressao = smf.ols(data = df_ondas, formula = 'frequencia ~ n').fit()\n",
    "print(regressao.params)\n",
    "regressao.summary()"
   ]
  },
  {
   "cell_type": "code",
   "execution_count": null,
   "id": "2eaf9a34",
   "metadata": {},
   "outputs": [],
   "source": [
    "df_ondas['ajuste'] = regressao.fittedvalues"
   ]
  },
  {
   "cell_type": "code",
   "execution_count": 5,
   "id": "d214cd35",
   "metadata": {},
   "outputs": [
    {
     "data": {
      "text/html": [
       "<div>\n",
       "<style scoped>\n",
       "    .dataframe tbody tr th:only-of-type {\n",
       "        vertical-align: middle;\n",
       "    }\n",
       "\n",
       "    .dataframe tbody tr th {\n",
       "        vertical-align: top;\n",
       "    }\n",
       "\n",
       "    .dataframe thead th {\n",
       "        text-align: right;\n",
       "    }\n",
       "</style>\n",
       "<table border=\"1\" class=\"dataframe\">\n",
       "  <thead>\n",
       "    <tr style=\"text-align: right;\">\n",
       "      <th></th>\n",
       "      <th>frequencia</th>\n",
       "      <th>n</th>\n",
       "      <th>ajuste</th>\n",
       "    </tr>\n",
       "  </thead>\n",
       "  <tbody>\n",
       "    <tr>\n",
       "      <th>0</th>\n",
       "      <td>1563.4</td>\n",
       "      <td>4.166667</td>\n",
       "      <td>1564.98</td>\n",
       "    </tr>\n",
       "    <tr>\n",
       "      <th>1</th>\n",
       "      <td>3062.4</td>\n",
       "      <td>8.333333</td>\n",
       "      <td>3088.06</td>\n",
       "    </tr>\n",
       "    <tr>\n",
       "      <th>2</th>\n",
       "      <td>4514.9</td>\n",
       "      <td>12.500000</td>\n",
       "      <td>4611.14</td>\n",
       "    </tr>\n",
       "    <tr>\n",
       "      <th>3</th>\n",
       "      <td>6410.0</td>\n",
       "      <td>16.666667</td>\n",
       "      <td>6134.22</td>\n",
       "    </tr>\n",
       "    <tr>\n",
       "      <th>4</th>\n",
       "      <td>7505.0</td>\n",
       "      <td>20.833333</td>\n",
       "      <td>7657.30</td>\n",
       "    </tr>\n",
       "  </tbody>\n",
       "</table>\n",
       "</div>"
      ],
      "text/plain": [
       "   frequencia          n   ajuste\n",
       "0      1563.4   4.166667  1564.98\n",
       "1      3062.4   8.333333  3088.06\n",
       "2      4514.9  12.500000  4611.14\n",
       "3      6410.0  16.666667  6134.22\n",
       "4      7505.0  20.833333  7657.30"
      ]
     },
     "execution_count": 5,
     "metadata": {},
     "output_type": "execute_result"
    }
   ],
   "source": [
    "df_ondas"
   ]
  },
  {
   "cell_type": "markdown",
   "id": "8bdc5545",
   "metadata": {},
   "source": [
    "plt.scatter(df_ondas[\"n\"],df_ondas[\"frequencia\"], label = \"Pontos Medidos\", color = \"coral\")\n",
    "plt.plot(df_ondas[\"n\"],df_ondas[\"ajuste\"],label = \"Regressão Linear\",color = \"teal\")\n",
    "plt.title('Frequência - Regressão Linear')\n",
    "plt.legend(('Frequências Medidas','Regressão Linear'))\n",
    "#plt.savefig(\"grafico1.png\")"
   ]
  },
  {
   "cell_type": "code",
   "execution_count": 110,
   "id": "f70b468e",
   "metadata": {},
   "outputs": [],
   "source": [
    "plt.style.use('seaborn-notebook')"
   ]
  },
  {
   "cell_type": "code",
   "execution_count": 10,
   "id": "8fb4b352",
   "metadata": {
    "scrolled": false
   },
   "outputs": [
    {
     "name": "stderr",
     "output_type": "stream",
     "text": [
      "C:\\Users\\rosan\\anaconda3\\lib\\site-packages\\seaborn\\_decorators.py:36: FutureWarning: Pass the following variables as keyword args: x, y. From version 0.12, the only valid positional argument will be `data`, and passing other arguments without an explicit keyword will result in an error or misinterpretation.\n",
      "  warnings.warn(\n"
     ]
    },
    {
     "data": {
      "text/plain": [
       "<Figure size 1920x1080 with 0 Axes>"
      ]
     },
     "metadata": {},
     "output_type": "display_data"
    },
    {
     "data": {
      "image/png": "[encoded data removed]",
      "text/plain": [
       "<Figure size 360x360 with 1 Axes>"
      ]
     },
     "metadata": {},
     "output_type": "display_data"
    }
   ],
   "source": [
    "plt.figure(figsize = (1.92,1.08),dpi=1000)\n",
    "sns.relplot(df_ondas[\"n\"],df_ondas[\"frequencia\"],color = \"coral\",label = \"Frequências Medidas\")\n",
    "plt.plot(df_ondas[\"n\"],df_ondas[\"ajuste\"],label = \"Regressão Linear\",color = \"teal\")\n",
    "plt.title('Frequência - Regressão Linear')\n",
    "plt.legend(('Regressão Linear','Frequências Medidas'),loc = 'best')\n",
    "plt.xlabel(\"\")\n",
    "plt.ylabel(\"Frequência (Hz)\")\n",
    "plt.savefig(\"grafico1.png\",dpi = 1000)"
   ]
  },
  {
   "cell_type": "markdown",
   "id": "74f9871d",
   "metadata": {},
   "source": [
    "<p>A velocidade do som, neste caso, é de 365,54 m/s.</p>\n",
    "<p>O R-quadrado encontrado é de 0,995, o que indica que os valores da reta estão bem próximos dos pontos reais</p>"
   ]
  },
  {
   "cell_type": "markdown",
   "id": "f4831917",
   "metadata": {},
   "source": [
    "## Modelo com Comprimento Variável"
   ]
  },
  {
   "cell_type": "code",
   "execution_count": 4,
   "id": "6cc5cf00",
   "metadata": {},
   "outputs": [
    {
     "name": "stdout",
     "output_type": "stream",
     "text": [
      "   comprimento        n\n",
      "0        0.085  0.00025\n",
      "1        0.173  0.00050\n",
      "2        0.259  0.00075\n",
      "3        0.347  0.00100\n",
      "4        0.434  0.00125\n"
     ]
    }
   ],
   "source": [
    "#Segundo: Comprimento variavel\n",
    "\n",
    "f = 2000.4 #em Hertz\n",
    "l = [0.085, 0.173, 0.259, 0.347, 0.434] #em metros\n",
    "n = [int(i) for i in range(1,6)]\n",
    "n2 = [i/(2*f) for i in n]\n",
    "\n",
    "df_ondas2 = pd.DataFrame({'comprimento': l, 'n':n2})\n",
    "print(df_ondas2)\n",
    "#df_ondas = pd.DataFrame(np.zeros((len(f),2)))"
   ]
  },
  {
   "cell_type": "code",
   "execution_count": 5,
   "id": "863b4861",
   "metadata": {},
   "outputs": [
    {
     "name": "stdout",
     "output_type": "stream",
     "text": [
      "Intercept     -0.00200\n",
      "n            348.86976\n",
      "dtype: float64\n"
     ]
    },
    {
     "name": "stderr",
     "output_type": "stream",
     "text": [
      "C:\\Users\\rosan\\anaconda3\\lib\\site-packages\\statsmodels\\stats\\stattools.py:74: ValueWarning: omni_normtest is not valid with less than 8 observations; 5 samples were given.\n",
      "  warn(\"omni_normtest is not valid with less than 8 observations; %i \"\n"
     ]
    },
    {
     "data": {
      "text/html": [
       "<table class=\"simpletable\">\n",
       "<caption>OLS Regression Results</caption>\n",
       "<tr>\n",
       "  <th>Dep. Variable:</th>       <td>frequencia</td>    <th>  R-squared:         </th> <td>   0.995</td>\n",
       "</tr>\n",
       "<tr>\n",
       "  <th>Model:</th>                   <td>OLS</td>       <th>  Adj. R-squared:    </th> <td>   0.994</td>\n",
       "</tr>\n",
       "<tr>\n",
       "  <th>Method:</th>             <td>Least Squares</td>  <th>  F-statistic:       </th> <td>   637.5</td>\n",
       "</tr>\n",
       "<tr>\n",
       "  <th>Date:</th>             <td>Thu, 25 Nov 2021</td> <th>  Prob (F-statistic):</th> <td>0.000136</td>\n",
       "</tr>\n",
       "<tr>\n",
       "  <th>Time:</th>                 <td>13:59:52</td>     <th>  Log-Likelihood:    </th> <td> -32.073</td>\n",
       "</tr>\n",
       "<tr>\n",
       "  <th>No. Observations:</th>      <td>     5</td>      <th>  AIC:               </th> <td>   68.15</td>\n",
       "</tr>\n",
       "<tr>\n",
       "  <th>Df Residuals:</th>          <td>     3</td>      <th>  BIC:               </th> <td>   67.36</td>\n",
       "</tr>\n",
       "<tr>\n",
       "  <th>Df Model:</th>              <td>     1</td>      <th>                     </th>     <td> </td>   \n",
       "</tr>\n",
       "<tr>\n",
       "  <th>Covariance Type:</th>      <td>nonrobust</td>    <th>                     </th>     <td> </td>   \n",
       "</tr>\n",
       "</table>\n",
       "<table class=\"simpletable\">\n",
       "<tr>\n",
       "      <td></td>         <th>coef</th>     <th>std err</th>      <th>t</th>      <th>P>|t|</th>  <th>[0.025</th>    <th>0.975]</th>  \n",
       "</tr>\n",
       "<tr>\n",
       "  <th>Intercept</th> <td>   41.9000</td> <td>  200.075</td> <td>    0.209</td> <td> 0.848</td> <td> -594.829</td> <td>  678.629</td>\n",
       "</tr>\n",
       "<tr>\n",
       "  <th>n</th>         <td>  365.5392</td> <td>   14.478</td> <td>   25.248</td> <td> 0.000</td> <td>  319.464</td> <td>  411.615</td>\n",
       "</tr>\n",
       "</table>\n",
       "<table class=\"simpletable\">\n",
       "<tr>\n",
       "  <th>Omnibus:</th>       <td>   nan</td> <th>  Durbin-Watson:     </th> <td>   2.997</td>\n",
       "</tr>\n",
       "<tr>\n",
       "  <th>Prob(Omnibus):</th> <td>   nan</td> <th>  Jarque-Bera (JB):  </th> <td>   0.896</td>\n",
       "</tr>\n",
       "<tr>\n",
       "  <th>Skew:</th>          <td> 1.025</td> <th>  Prob(JB):          </th> <td>   0.639</td>\n",
       "</tr>\n",
       "<tr>\n",
       "  <th>Kurtosis:</th>      <td> 2.688</td> <th>  Cond. No.          </th> <td>    32.5</td>\n",
       "</tr>\n",
       "</table><br/><br/>Notes:<br/>[1] Standard Errors assume that the covariance matrix of the errors is correctly specified."
      ],
      "text/plain": [
       "<class 'statsmodels.iolib.summary.Summary'>\n",
       "\"\"\"\n",
       "                            OLS Regression Results                            \n",
       "==============================================================================\n",
       "Dep. Variable:             frequencia   R-squared:                       0.995\n",
       "Model:                            OLS   Adj. R-squared:                  0.994\n",
       "Method:                 Least Squares   F-statistic:                     637.5\n",
       "Date:                Thu, 25 Nov 2021   Prob (F-statistic):           0.000136\n",
       "Time:                        13:59:52   Log-Likelihood:                -32.073\n",
       "No. Observations:                   5   AIC:                             68.15\n",
       "Df Residuals:                       3   BIC:                             67.36\n",
       "Df Model:                           1                                         \n",
       "Covariance Type:            nonrobust                                         \n",
       "==============================================================================\n",
       "                 coef    std err          t      P>|t|      [0.025      0.975]\n",
       "------------------------------------------------------------------------------\n",
       "Intercept     41.9000    200.075      0.209      0.848    -594.829     678.629\n",
       "n            365.5392     14.478     25.248      0.000     319.464     411.615\n",
       "==============================================================================\n",
       "Omnibus:                          nan   Durbin-Watson:                   2.997\n",
       "Prob(Omnibus):                    nan   Jarque-Bera (JB):                0.896\n",
       "Skew:                           1.025   Prob(JB):                        0.639\n",
       "Kurtosis:                       2.688   Cond. No.                         32.5\n",
       "==============================================================================\n",
       "\n",
       "Notes:\n",
       "[1] Standard Errors assume that the covariance matrix of the errors is correctly specified.\n",
       "\"\"\""
      ]
     },
     "execution_count": 5,
     "metadata": {},
     "output_type": "execute_result"
    }
   ],
   "source": [
    "regressao2 = smf.ols(data = df_ondas2, formula = 'comprimento ~ n').fit()\n",
    "print(regressao2.params)\n",
    "regressao.summary()"
   ]
  },
  {
   "cell_type": "code",
   "execution_count": null,
   "id": "a743de99",
   "metadata": {},
   "outputs": [],
   "source": [
    "df_ondas2['ajuste'] = regressao2.fittedvalues"
   ]
  },
  {
   "cell_type": "code",
   "execution_count": 15,
   "id": "1eeb6a83",
   "metadata": {},
   "outputs": [
    {
     "name": "stderr",
     "output_type": "stream",
     "text": [
      "C:\\Users\\rosan\\anaconda3\\lib\\site-packages\\seaborn\\_decorators.py:36: FutureWarning: Pass the following variables as keyword args: x, y. From version 0.12, the only valid positional argument will be `data`, and passing other arguments without an explicit keyword will result in an error or misinterpretation.\n",
      "  warnings.warn(\n"
     ]
    },
    {
     "data": {
      "text/plain": [
       "Text(2.835000000000001, 0.5, 'Comprimento (m)')"
      ]
     },
     "execution_count": 15,
     "metadata": {},
     "output_type": "execute_result"
    },
    {
     "data": {
      "image/png": "[encoded data removed]",
      "text/plain": [
       "<Figure size 360x360 with 1 Axes>"
      ]
     },
     "metadata": {},
     "output_type": "display_data"
    }
   ],
   "source": [
    "sns.relplot(df_ondas2[\"n\"],df_ondas2[\"comprimento\"],color = \"coral\",label = \"Comprimentos Medidos\")\n",
    "plt.plot(df_ondas2[\"n\"],df_ondas2[\"ajuste\"],label = \"Regressão Linear\",color = \"teal\")\n",
    "plt.title('Comprimento - Regressão Linear')\n",
    "plt.legend(('Regressão Linear','Comprimentos Medidos'),loc = 'best')\n",
    "plt.xlabel(\"\")\n",
    "plt.ylabel(\"Comprimento (m)\")"
   ]
  },
  {
   "cell_type": "markdown",
   "id": "3df64edc",
   "metadata": {},
   "source": [
    "<p>A velocidade do som para este caso é de 348,87 m/s</p>\n",
    "<p>O R-quadrado também é de 0,995, indicando uma reta bem ajustada aos valores reais</p>"
   ]
  }
 ],
 "metadata": {
  "kernelspec": {
   "display_name": "Python 3",
   "language": "python",
   "name": "python3"
  },
  "language_info": {
   "codemirror_mode": {
    "name": "ipython",
    "version": 3
   },
   "file_extension": ".py",
   "mimetype": "text/x-python",
   "name": "python",
   "nbconvert_exporter": "python",
   "pygments_lexer": "ipython3",
   "version": "3.8.8"
  }
 },
 "nbformat": 4,
 "nbformat_minor": 5
}
